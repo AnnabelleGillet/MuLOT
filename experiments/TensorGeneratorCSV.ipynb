{
 "cells": [
  {
   "cell_type": "code",
   "execution_count": null,
   "metadata": {
    "ExecuteTime": {
     "end_time": "2020-12-18T10:52:44.082863Z",
     "start_time": "2020-12-18T10:52:39.817Z"
    }
   },
   "outputs": [],
   "source": [
    "import $ivy.`com.github.tototoshi::scala-csv:1.3.6`\n",
    "import com.github.tototoshi.csv._"
   ]
  },
  {
   "cell_type": "markdown",
   "metadata": {},
   "source": [
    "# Methods"
   ]
  },
  {
   "cell_type": "markdown",
   "metadata": {},
   "source": [
    "## Random tensors\n",
    "This method can be used to create random tensors, by specifying the number of dimensions, their size (all dimensions have the same size), and the sparsity of the tensor."
   ]
  },
  {
   "cell_type": "code",
   "execution_count": null,
   "metadata": {
    "ExecuteTime": {
     "end_time": "2020-12-18T11:30:55.606827Z",
     "start_time": "2020-12-18T11:30:55.407Z"
    }
   },
   "outputs": [],
   "source": [
    "def createTensor(nbDimensions: Int, size: Long, sparsity: Double): Boolean = {\n",
    "    if (size * nbDimensions > math.pow(size, nbDimensions) * sparsity) {\n",
    "        println(\"Not enough values to create tensor, \" +\n",
    "        s\"asked ${(math.pow(size, nbDimensions) * sparsity).toLong}, minimum : ${size * nbDimensions}.\")\n",
    "        return false\n",
    "    } else {\n",
    "        println(s\"Create tensor of $nbDimensions dimensions of size $size with ${(math.pow(size, nbDimensions) * sparsity).toLong} elements.\")\n",
    "    }\n",
    "    val f = new java.io.File(s\"sample_tensors/tensor_${nbDimensions}_${size}_${sparsity}.csv\")\n",
    "    val writer = CSVWriter.open(f)\n",
    "    writer.writeRow((for (i <- 0 until nbDimensions) yield s\"d$i\").toList :+ \"val\")\n",
    "    \n",
    "    for (i <- 0 until nbDimensions) {\n",
    "        val toWrite = (for (j <- 0L until size) yield {\n",
    "            (for (k <- 0 until nbDimensions) yield {\n",
    "                if (k == i) {\n",
    "                    j\n",
    "                } else {\n",
    "                    math.abs(scala.util.Random.nextLong()) % size\n",
    "                }\n",
    "            }).toList :+ math.abs(scala.util.Random.nextDouble() * 100)\n",
    "        }).toList\n",
    "        writer.writeAll(toWrite)\n",
    "    }\n",
    "    var nbElements = size * nbDimensions\n",
    "    while (nbElements < math.pow(size, nbDimensions) * sparsity) {\n",
    "        var toWrite = (for (k <- 0 until nbDimensions) yield \n",
    "                math.abs(scala.util.Random.nextLong()) % size\n",
    "        ).toList :+ math.abs(scala.util.Random.nextDouble() * 100)\n",
    "        writer.writeRow(toWrite)\n",
    "        nbElements += 1\n",
    "    }\n",
    "    writer.close()\n",
    "    true\n",
    "}"
   ]
  },
  {
   "cell_type": "markdown",
   "metadata": {},
   "source": [
    "## Random tensors with clusters\n",
    "This method can be used to create random tensors, by specifying the number of dimensions, their size (all dimensions have the same size), and the sparsity of the tensor. Some clusters are added in the tensor (a set of elements that are close to each other)."
   ]
  },
  {
   "cell_type": "code",
   "execution_count": null,
   "metadata": {
    "ExecuteTime": {
     "end_time": "2020-12-19T15:53:37.463762Z",
     "start_time": "2020-12-19T15:53:37.260Z"
    }
   },
   "outputs": [],
   "source": [
    "def createTensorWithCluster(nbDimensions: Int, size: Long, sparsity: Double, \n",
    "                            nbClusters: Int, clusterSize: Int, nbValuesInCluster: Int): Boolean = {\n",
    "    if (size * nbDimensions > math.pow(size, nbDimensions) * sparsity) {\n",
    "        println(\"Not enough values to create tensor, \" +\n",
    "        s\"asked ${(math.pow(size, nbDimensions) * sparsity).toLong}, minimum : ${size * nbDimensions}.\")\n",
    "        return false\n",
    "    } else {\n",
    "        println(s\"Create tensor of $nbDimensions dimensions of size $size with ${(math.pow(size, nbDimensions) * sparsity).toLong} elements.\")\n",
    "    }\n",
    "    \n",
    "    val f = new java.io.File(s\"sample_tensors/tensor_${nbDimensions}_${size}_${sparsity}_${nbClusters}clusters${clusterSize}.csv\")\n",
    "    val writer = CSVWriter.open(f)\n",
    "    writer.writeRow((for (i <- 0 until nbDimensions) yield s\"d$i\").toList :+ \"val\")\n",
    "    \n",
    "    // Clusters\n",
    "    var iExcludes = List[Long]()\n",
    "    val clusters = new Array[List[Any]](nbClusters)\n",
    "    for (c <- 0 until nbClusters) {\n",
    "        var cluster = List[Long]()\n",
    "        for (m <- 0 until clusterSize) {\n",
    "            var i = math.abs(scala.util.Random.nextLong()) % size\n",
    "            while (iExcludes.contains(i)) {\n",
    "                i = math.abs(scala.util.Random.nextLong()) % size\n",
    "            }\n",
    "            cluster :+= i\n",
    "            iExcludes :+= i\n",
    "        }\n",
    "        println(\"New cluster : \" + cluster.mkString(\", \"))\n",
    "        for (e <- 0 until nbValuesInCluster) {\n",
    "            val entry = (for (d <- 1 until nbDimensions) yield {\n",
    "                math.abs(scala.util.Random.nextLong()) % size\n",
    "            }).toList\n",
    "            val value = math.abs(scala.util.Random.nextDouble() * 100)\n",
    "            for (m <- cluster) {\n",
    "                val epsilon = scala.util.Random.nextDouble() % 0.1\n",
    "                writer.writeRow(m +: entry :+ (math.abs(value + epsilon)))\n",
    "            }\n",
    "        }\n",
    "    }\n",
    "    \n",
    "    // At least 1 value for each dimension's value\n",
    "    for (i <- 0 until nbDimensions) {\n",
    "        val toWrite = (for (j <- 0L until size if i != 0 || (i == 0 && !iExcludes.contains(j))) yield {\n",
    "            (for (k <- 0 until nbDimensions) yield {\n",
    "                if (k == i) {\n",
    "                    j\n",
    "                } else {\n",
    "                    if (k != 0) {\n",
    "                        math.abs(scala.util.Random.nextLong()) % size\n",
    "                    } else {\n",
    "                        var v = math.abs(scala.util.Random.nextLong()) % size\n",
    "                        while (iExcludes.contains(v)) {\n",
    "                            v = math.abs(scala.util.Random.nextLong()) % size\n",
    "                        }\n",
    "                        v\n",
    "                    }\n",
    "                    \n",
    "                }\n",
    "            }).toList :+ math.abs(scala.util.Random.nextDouble() * 100)\n",
    "        }).toList\n",
    "        writer.writeAll(toWrite)\n",
    "    }\n",
    "    \n",
    "    // Add elements until sparsity reached\n",
    "    var nbElements = size * nbDimensions + nbClusters * clusterSize\n",
    "    while (nbElements < math.pow(size, nbDimensions) * sparsity) {\n",
    "        var toWrite = (for (k <- 0 until nbDimensions) yield \n",
    "                math.abs(scala.util.Random.nextLong()) % size\n",
    "        ).toList :+ math.abs(scala.util.Random.nextDouble() * 100)\n",
    "        if (!iExcludes.contains(toWrite(0))) {\n",
    "            writer.writeRow(toWrite)\n",
    "            nbElements += 1\n",
    "        }\n",
    "    }\n",
    "    writer.close()\n",
    "    true\n",
    "}"
   ]
  },
  {
   "cell_type": "markdown",
   "metadata": {},
   "source": [
    "# Tensors creation\n",
    "Create several tensors for the number of dimensions, sizes and sparsities given."
   ]
  },
  {
   "cell_type": "code",
   "execution_count": null,
   "metadata": {
    "ExecuteTime": {
     "end_time": "2020-12-22T12:58:48.644259Z",
     "start_time": "2020-12-22T11:06:39.130Z"
    }
   },
   "outputs": [],
   "source": [
    "for (dimension <- 3 to 5) {\n",
    "    for (size <- List(1000, 10000, 100000)) {\n",
    "        for (sparsity <- List(1e-1, 1e-2, 1e-3, 1e-4, 1e-5, 1e-6, 1e-7, 1e-8, 1e-9, 1e-10)) {\n",
    "            if (math.pow(size, dimension) * sparsity <= 1000000000) {\n",
    "                if (!new java.io.File(s\"sample_tensors/tensor_${dimension}_${size}_${sparsity}.csv\").exists) {\n",
    "                    createTensor(dimension, size, sparsity)\n",
    "                } else {\n",
    "                    println(s\"File sample_tensors/tensor_${dimension}_${size}_${sparsity}.csv already exists.\")\n",
    "                }\n",
    "            } else {\n",
    "                println(s\"Too much elements (${math.pow(size, dimension) * sparsity})\")\n",
    "            }\n",
    "        }\n",
    "    }\n",
    "}"
   ]
  },
  {
   "cell_type": "code",
   "execution_count": null,
   "metadata": {},
   "outputs": [],
   "source": []
  }
 ],
 "metadata": {
  "hide_input": false,
  "kernelspec": {
   "display_name": "Scala",
   "language": "scala",
   "name": "scala"
  },
  "language_info": {
   "codemirror_mode": "text/x-scala",
   "file_extension": ".scala",
   "mimetype": "text/x-scala",
   "name": "scala",
   "nbconvert_exporter": "script",
   "version": "2.12.10"
  },
  "toc": {
   "base_numbering": 1,
   "nav_menu": {},
   "number_sections": true,
   "sideBar": true,
   "skip_h1_title": false,
   "title_cell": "Table of Contents",
   "title_sidebar": "Contents",
   "toc_cell": false,
   "toc_position": {},
   "toc_section_display": true,
   "toc_window_display": false
  }
 },
 "nbformat": 4,
 "nbformat_minor": 2
}
