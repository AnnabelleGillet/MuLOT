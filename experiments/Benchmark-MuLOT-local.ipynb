{
 "cells": [
  {
   "cell_type": "markdown",
   "metadata": {},
   "source": [
    "# Initialisation"
   ]
  },
  {
   "cell_type": "code",
   "execution_count": null,
   "metadata": {
    "ExecuteTime": {
     "end_time": "2022-10-30T06:09:03.736891Z",
     "start_time": "2022-10-30T06:09:00.643Z"
    }
   },
   "outputs": [],
   "source": [
    "val currentDirectory = new java.io.File(\".\").getCanonicalPath\n",
    "val path = java.nio.file.FileSystems.getDefault().getPath(s\"$currentDirectory/lib/MuLOT-local-assembly-0.4.jar\")\n",
    "val x = ammonite.ops.Path(path)\n",
    "interp.load.cp(x)"
   ]
  },
  {
   "cell_type": "code",
   "execution_count": null,
   "metadata": {
    "ExecuteTime": {
     "end_time": "2022-10-30T06:09:17.157497Z",
     "start_time": "2022-10-30T06:09:16.486Z"
    }
   },
   "outputs": [],
   "source": [
    "import mulot.local.Tensor\n",
    "import mulot.local.tensordecomposition.cp.ALS"
   ]
  },
  {
   "cell_type": "markdown",
   "metadata": {},
   "source": [
    "# Data loading"
   ]
  },
  {
   "cell_type": "code",
   "execution_count": null,
   "metadata": {
    "ExecuteTime": {
     "end_time": "2022-10-30T06:09:18.429520Z",
     "start_time": "2022-10-30T06:09:17.840Z"
    }
   },
   "outputs": [],
   "source": [
    "import java.io.File\n",
    "\n",
    "val tensorsFiles = new File(\"sample_tensors\").listFiles\n",
    "    .map(_.getName)\n",
    "    .filter(f => f.startsWith(\"tensor\") && !f.contains(\"clusters\")).toList"
   ]
  },
  {
   "cell_type": "code",
   "execution_count": null,
   "metadata": {
    "ExecuteTime": {
     "end_time": "2022-10-30T06:09:18.971879Z",
     "start_time": "2022-10-30T06:09:18.566Z"
    }
   },
   "outputs": [],
   "source": [
    "import scala.io.Source\n",
    "\n",
    "def readFile(file: String): Map[Array[_], Double] = {\n",
    "    \n",
    "    val startTime = System.currentTimeMillis()\n",
    "    \n",
    "    val source = Source.fromFile(file)\n",
    "    val r = (for (_entry <- source.getLines().drop(1)) yield {\n",
    "        val entry = _entry.split(\",\")\n",
    "        val key = Array[Int](entry(0).toInt, entry(1).toInt, entry(2).toInt)\n",
    "        key -> entry(3).toDouble\n",
    "    }).toMap\n",
    "    source.close()\n",
    "    val endTime = (System.currentTimeMillis() - startTime).toInt\n",
    "\n",
    "    println(\"Reading time: \" + (endTime / 1000) + \"s\")\n",
    "\n",
    "    r.asInstanceOf[Map[Array[_], Double]]\n",
    "}"
   ]
  },
  {
   "cell_type": "markdown",
   "metadata": {},
   "source": [
    "# Run CP"
   ]
  },
  {
   "cell_type": "code",
   "execution_count": null,
   "metadata": {
    "ExecuteTime": {
     "end_time": "2022-10-30T06:09:20.503933Z",
     "start_time": "2022-10-30T06:09:20.245Z"
    }
   },
   "outputs": [],
   "source": [
    "import scala.collection.mutable.{Map => MMap}"
   ]
  },
  {
   "cell_type": "code",
   "execution_count": null,
   "metadata": {
    "ExecuteTime": {
     "end_time": "2022-10-30T06:09:22.249615Z",
     "start_time": "2022-10-30T06:09:21.151Z"
    }
   },
   "outputs": [],
   "source": [
    "// Remove logging\n",
    "import $ivy.`com.outr::scribe:3.10.4`\n",
    "\n",
    "scribe.Logger.root\n",
    "  .clearHandlers()\n",
    "  .clearModifiers()\n",
    "  .withHandler(minimumLevel = Some(scribe.Level.Error))\n",
    "  .replace()"
   ]
  },
  {
   "cell_type": "code",
   "execution_count": null,
   "metadata": {
    "ExecuteTime": {
     "start_time": "2022-10-30T06:09:23.951Z"
    },
    "scrolled": true
   },
   "outputs": [],
   "source": [
    "var timeMuLOTLocal = MMap[Int, MMap[Int, MMap[Double, Int]]]()\n",
    "\n",
    "for (dimension <- 3 to 3;\n",
    "     size <- List(100, 1000, 10000, 100000);\n",
    "     sparsity <- List(1e-1, 1e-2, 1e-3, 1e-4, 1e-5, 1e-6, 1e-7, 1e-8, 1e-9, 1e-10).reverse) {\n",
    "    val fileName = s\"tensor_${dimension}_${size}_${sparsity}.csv\"\n",
    "    if (tensorsFiles.contains(fileName)) {\n",
    "        println(fileName)\n",
    "        val nbIterations = 1\n",
    "        var endTime = 0\n",
    "        val tensor = Tensor(readFile(s\"sample_tensors/$fileName\"), dimension, Array(\"d0\", \"d1\", \"d2\"))\n",
    "        println(\"File loaded\")\n",
    "        for (j <- 0 until nbIterations) {\n",
    "            \n",
    "            val startTime = System.currentTimeMillis()\n",
    "\n",
    "            val kruskal = ALS(tensor, 3).withMaxIterations(5).withMinFms(1.0).execute()\n",
    "\n",
    "            endTime += (System.currentTimeMillis() - startTime).toInt\n",
    "\n",
    "            println(\"Execution time: \" + (endTime / 1000) + \"s\")\n",
    "        }\n",
    "        val finalTime = (endTime / nbIterations).toInt\n",
    "        var dimMap = timeMuLOTLocal.getOrElse(dimension, MMap[Int, MMap[Double, Int]]())\n",
    "        var sizeMap = dimMap.getOrElse(size, MMap[Double, Int]())\n",
    "        sizeMap = sizeMap + (sparsity -> finalTime)\n",
    "        dimMap = dimMap + (size -> sizeMap)\n",
    "        timeMuLOTLocal(dimension) = dimMap\n",
    "    } \n",
    "}"
   ]
  },
  {
   "cell_type": "markdown",
   "metadata": {},
   "source": [
    "# Results"
   ]
  },
  {
   "cell_type": "markdown",
   "metadata": {},
   "source": [
    "## Export results in CSV"
   ]
  },
  {
   "cell_type": "code",
   "execution_count": null,
   "metadata": {
    "ExecuteTime": {
     "end_time": "2022-10-30T06:06:55.978701Z",
     "start_time": "2022-10-30T06:06:55.527Z"
    }
   },
   "outputs": [],
   "source": [
    "import $ivy.`com.github.tototoshi::scala-csv:1.3.6`\n",
    "import com.github.tototoshi.csv._"
   ]
  },
  {
   "cell_type": "code",
   "execution_count": null,
   "metadata": {
    "ExecuteTime": {
     "end_time": "2022-10-30T06:06:57.507543Z",
     "start_time": "2022-10-30T06:06:57.014Z"
    }
   },
   "outputs": [],
   "source": [
    "val f = new java.io.File(s\"\"\"results/timeMuLOT-local.csv\"\"\")\n",
    "val fileExists = f.exists()\n",
    "val writer = CSVWriter.open(f, append = true)\n",
    "if (!fileExists) {\n",
    "    writer.writeRow(List[String](\"dimension\", \"size\", \"sparsity\", \"time\"))\n",
    "}\n",
    "for ((dimension, r1) <- timeMuLOTLocal; (size, r2) <- r1; (sparsity, time) <- r2) {\n",
    "    println(List[Any](dimension, size, sparsity, time))\n",
    "    writer.writeRow(List[Any](dimension, size, sparsity, time))\n",
    "}\n",
    "writer.close()"
   ]
  },
  {
   "cell_type": "code",
   "execution_count": null,
   "metadata": {},
   "outputs": [],
   "source": []
  }
 ],
 "metadata": {
  "hide_input": false,
  "kernelspec": {
   "display_name": "Scala",
   "language": "scala",
   "name": "scala"
  },
  "language_info": {
   "codemirror_mode": "text/x-scala",
   "file_extension": ".scala",
   "mimetype": "text/x-scala",
   "name": "scala",
   "nbconvert_exporter": "script",
   "version": "2.12.10"
  },
  "toc": {
   "base_numbering": 1,
   "nav_menu": {},
   "number_sections": true,
   "sideBar": true,
   "skip_h1_title": false,
   "title_cell": "Table of Contents",
   "title_sidebar": "Contents",
   "toc_cell": false,
   "toc_position": {},
   "toc_section_display": true,
   "toc_window_display": false
  }
 },
 "nbformat": 4,
 "nbformat_minor": 2
}
