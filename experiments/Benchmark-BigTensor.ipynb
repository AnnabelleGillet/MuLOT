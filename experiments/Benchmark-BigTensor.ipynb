{
 "cells": [
  {
   "cell_type": "markdown",
   "metadata": {},
   "source": [
    "# Data loading"
   ]
  },
  {
   "cell_type": "code",
   "execution_count": null,
   "metadata": {
    "ExecuteTime": {
     "end_time": "2021-02-16T18:04:51.702549Z",
     "start_time": "2021-02-16T18:04:48.085Z"
    }
   },
   "outputs": [],
   "source": [
    "import java.io.File\n",
    "\n",
    "val tensorsFiles = new File(\"sample_tensors_HaTen\").listFiles\n",
    "    .map(_.getName)\n",
    "    .filter(f => f.startsWith(\"tensor\") && !f.contains(\"clusters\")).toList"
   ]
  },
  {
   "cell_type": "markdown",
   "metadata": {},
   "source": [
    "# Run CP"
   ]
  },
  {
   "cell_type": "code",
   "execution_count": null,
   "metadata": {
    "ExecuteTime": {
     "end_time": "2021-02-16T18:04:53.461785Z",
     "start_time": "2021-02-16T18:04:53.117Z"
    }
   },
   "outputs": [],
   "source": [
    "import scala.collection.mutable.{Map => MMap}\n",
    "import scala.sys.process._"
   ]
  },
  {
   "cell_type": "code",
   "execution_count": null,
   "metadata": {
    "ExecuteTime": {
     "end_time": "2021-02-16T18:04:56.631752Z",
     "start_time": "2021-02-16T18:04:56.240Z"
    }
   },
   "outputs": [],
   "source": [
    "def appendToEnv(key: String, value: String) = scala.util.Properties.envOrNone(key) match {\n",
    "    case Some(v) if v.nonEmpty => s\"$v${System getProperty \"path.separator\"}$value\"\n",
    "    case _ => value\n",
    "}"
   ]
  },
  {
   "cell_type": "code",
   "execution_count": null,
   "metadata": {
    "ExecuteTime": {
     "end_time": "2021-02-20T13:50:45.340409Z",
     "start_time": "2021-02-19T22:01:37.968Z"
    }
   },
   "outputs": [],
   "source": [
    "val hadoopPath = \"\"\n",
    "var timeCPALSBigTensor = MMap[Int, MMap[Int, MMap[Double, Int]]]()\n",
    "val outputPath = \"output\"\n",
    "\n",
    "for (dimension <- 3 to 3;\n",
    "     size <- List(100, 1000, 10000, 100000);\n",
    "     sparsity <- List(1e-1, 1e-2, 1e-3, 1e-4, 1e-5, 1e-6, 1e-7, 1e-8, 1e-9, 1e-10).reverse) {\n",
    "    val fileName = s\"tensor_${dimension}_${size}_${sparsity}.csv\"\n",
    "    if (tensorsFiles.contains(fileName)) {\n",
    "        println(fileName)\n",
    "        val nbIterations = 1\n",
    "        var endTime = 0\n",
    "        try {\n",
    "            s\"$hadoopPath/bin/hadoop fs -put sample_tensors_HaTen/$fileName .\" !!\n",
    "        } catch {\n",
    "            case t: Throwable => println(t)\n",
    "        }\n",
    "        \n",
    "        for (j <- 0 until nbIterations) {   \n",
    "            val dimensionString = (for (_ <- 0 until dimension) yield size).mkString(\":\")\n",
    "            val arguments = Array[String](dimensionString, \"3\", \"40\", \"5\", fileName, outputPath).mkString(\" \")\n",
    "            println(s\"./BigTensor_run_parafacnn.sh $arguments\")\n",
    "            \n",
    "            println(java.util.Calendar.getInstance().getTime())\n",
    "            val startTime = System.currentTimeMillis()\n",
    "            \n",
    "            val output = Process(s\"./BigTensor_run_parafacnn.sh $arguments\", \n",
    "                                 new java.io.File(\"lib\"), \n",
    "                                 \"PATH\" -> appendToEnv(\"PATH\", s\"$hadoopPath/bin\")) ! ProcessLogger(_ => {}, _ => {})\n",
    "            \n",
    "            endTime += (System.currentTimeMillis() - startTime).toInt\n",
    "\n",
    "            println(\"Execution time: \" + (endTime / 1000) + \"s\")\n",
    "        }\n",
    "        val finalTime = (endTime / nbIterations).toInt\n",
    "        var dimMap = timeCPALSBigTensor.getOrElse(dimension, MMap[Int, MMap[Double, Int]]())\n",
    "        var sizeMap = dimMap.getOrElse(size, MMap[Double, Int]())\n",
    "        sizeMap = sizeMap + (sparsity -> finalTime)\n",
    "        dimMap = dimMap + (size -> sizeMap)\n",
    "        timeCPALSBigTensor(dimension) = dimMap\n",
    "    } \n",
    "}"
   ]
  },
  {
   "cell_type": "markdown",
   "metadata": {},
   "source": [
    "# Results"
   ]
  },
  {
   "cell_type": "markdown",
   "metadata": {},
   "source": [
    "## Export to CSV"
   ]
  },
  {
   "cell_type": "code",
   "execution_count": null,
   "metadata": {
    "ExecuteTime": {
     "end_time": "2021-02-16T18:58:38.378126Z",
     "start_time": "2021-02-16T18:58:37.335Z"
    }
   },
   "outputs": [],
   "source": [
    "import $ivy.`com.github.tototoshi::scala-csv:1.3.6`\n",
    "import com.github.tototoshi.csv._"
   ]
  },
  {
   "cell_type": "code",
   "execution_count": null,
   "metadata": {
    "ExecuteTime": {
     "end_time": "2021-02-20T14:04:42.483965Z",
     "start_time": "2021-02-20T14:04:42.303Z"
    }
   },
   "outputs": [],
   "source": [
    "val f = new java.io.File(s\"\"\"results/benchmarkBigTensor.csv\"\"\")\n",
    "val fileExists = f.exists()\n",
    "val writer = CSVWriter.open(f, append = true)\n",
    "if (!fileExists) {\n",
    "    writer.writeRow(List[String](\"dimension\", \"size\", \"sparsity\", \"time\"))\n",
    "}\n",
    "for ((dimension, r1) <- timeCPALSBigTensor; (size, r2) <- r1; (sparsity, time) <- r2) {\n",
    "    println(List[Any](dimension, size, sparsity, time))\n",
    "    writer.writeRow(List[Any](dimension, size, sparsity, time))\n",
    "}\n",
    "writer.close()"
   ]
  },
  {
   "cell_type": "code",
   "execution_count": null,
   "metadata": {},
   "outputs": [],
   "source": []
  }
 ],
 "metadata": {
  "hide_input": false,
  "kernelspec": {
   "display_name": "Scala",
   "language": "scala",
   "name": "scala"
  },
  "language_info": {
   "codemirror_mode": "text/x-scala",
   "file_extension": ".scala",
   "mimetype": "text/x-scala",
   "name": "scala",
   "nbconvert_exporter": "script",
   "version": "2.12.10"
  },
  "toc": {
   "base_numbering": 1,
   "nav_menu": {},
   "number_sections": true,
   "sideBar": true,
   "skip_h1_title": false,
   "title_cell": "Table of Contents",
   "title_sidebar": "Contents",
   "toc_cell": false,
   "toc_position": {},
   "toc_section_display": true,
   "toc_window_display": false
  }
 },
 "nbformat": 4,
 "nbformat_minor": 2
}
